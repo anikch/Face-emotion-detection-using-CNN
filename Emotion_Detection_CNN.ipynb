{
  "nbformat": 4,
  "nbformat_minor": 0,
  "metadata": {
    "colab": {
      "name": "Emotion Detection CNN.ipynb",
      "provenance": [],
      "collapsed_sections": [],
      "machine_shape": "hm",
      "mount_file_id": "13A1IyMm0oBsU81K9xFJC4SE6zgAyOOaS",
      "authorship_tag": "ABX9TyNycWa9nCu1MqY1VsldulSI",
      "include_colab_link": true
    },
    "kernelspec": {
      "name": "python3",
      "display_name": "Python 3"
    },
    "language_info": {
      "name": "python"
    },
    "accelerator": "GPU"
  },
  "cells": [
    {
      "cell_type": "markdown",
      "metadata": {
        "id": "view-in-github",
        "colab_type": "text"
      },
      "source": [
        "<a href=\"https://colab.research.google.com/github/anikch/Face-emotion-detection-using-CNN/blob/main/Emotion_Detection_CNN.ipynb\" target=\"_parent\"><img src=\"https://colab.research.google.com/assets/colab-badge.svg\" alt=\"Open In Colab\"/></a>"
      ]
    },
    {
      "cell_type": "code",
      "metadata": {
        "id": "PIyslgbEkGN5"
      },
      "source": [
        "# Importing required libraries\n",
        "import numpy as np\n",
        "import pandas as pd\n",
        "import tensorflow as tf\n",
        "import matplotlib.pyplot as plt\n",
        "import seaborn as sns\n",
        "import warnings\n",
        "warnings.filterwarnings('ignore')"
      ],
      "execution_count": 1,
      "outputs": []
    },
    {
      "cell_type": "markdown",
      "metadata": {
        "id": "lGGMRnmPwdrb"
      },
      "source": [
        "# Reading data and data pre-processing"
      ]
    },
    {
      "cell_type": "code",
      "metadata": {
        "colab": {
          "base_uri": "https://localhost:8080/",
          "height": 206
        },
        "id": "FtlPxyVdklcE",
        "outputId": "95bb20ca-19da-48de-e08e-013c99b65ab5"
      },
      "source": [
        "# Reading data from CSV\n",
        "df= pd.read_csv('/content/drive/MyDrive/colab_data/fer2013.csv')\n",
        "df.head()"
      ],
      "execution_count": 2,
      "outputs": [
        {
          "output_type": "execute_result",
          "data": {
            "text/html": [
              "<div>\n",
              "<style scoped>\n",
              "    .dataframe tbody tr th:only-of-type {\n",
              "        vertical-align: middle;\n",
              "    }\n",
              "\n",
              "    .dataframe tbody tr th {\n",
              "        vertical-align: top;\n",
              "    }\n",
              "\n",
              "    .dataframe thead th {\n",
              "        text-align: right;\n",
              "    }\n",
              "</style>\n",
              "<table border=\"1\" class=\"dataframe\">\n",
              "  <thead>\n",
              "    <tr style=\"text-align: right;\">\n",
              "      <th></th>\n",
              "      <th>emotion</th>\n",
              "      <th>pixels</th>\n",
              "      <th>Usage</th>\n",
              "    </tr>\n",
              "  </thead>\n",
              "  <tbody>\n",
              "    <tr>\n",
              "      <th>0</th>\n",
              "      <td>0</td>\n",
              "      <td>70 80 82 72 58 58 60 63 54 58 60 48 89 115 121...</td>\n",
              "      <td>Training</td>\n",
              "    </tr>\n",
              "    <tr>\n",
              "      <th>1</th>\n",
              "      <td>0</td>\n",
              "      <td>151 150 147 155 148 133 111 140 170 174 182 15...</td>\n",
              "      <td>Training</td>\n",
              "    </tr>\n",
              "    <tr>\n",
              "      <th>2</th>\n",
              "      <td>2</td>\n",
              "      <td>231 212 156 164 174 138 161 173 182 200 106 38...</td>\n",
              "      <td>Training</td>\n",
              "    </tr>\n",
              "    <tr>\n",
              "      <th>3</th>\n",
              "      <td>4</td>\n",
              "      <td>24 32 36 30 32 23 19 20 30 41 21 22 32 34 21 1...</td>\n",
              "      <td>Training</td>\n",
              "    </tr>\n",
              "    <tr>\n",
              "      <th>4</th>\n",
              "      <td>6</td>\n",
              "      <td>4 0 0 0 0 0 0 0 0 0 0 0 3 15 23 28 48 50 58 84...</td>\n",
              "      <td>Training</td>\n",
              "    </tr>\n",
              "  </tbody>\n",
              "</table>\n",
              "</div>"
            ],
            "text/plain": [
              "   emotion                                             pixels     Usage\n",
              "0        0  70 80 82 72 58 58 60 63 54 58 60 48 89 115 121...  Training\n",
              "1        0  151 150 147 155 148 133 111 140 170 174 182 15...  Training\n",
              "2        2  231 212 156 164 174 138 161 173 182 200 106 38...  Training\n",
              "3        4  24 32 36 30 32 23 19 20 30 41 21 22 32 34 21 1...  Training\n",
              "4        6  4 0 0 0 0 0 0 0 0 0 0 0 3 15 23 28 48 50 58 84...  Training"
            ]
          },
          "metadata": {},
          "execution_count": 2
        }
      ]
    },
    {
      "cell_type": "code",
      "metadata": {
        "colab": {
          "base_uri": "https://localhost:8080/"
        },
        "id": "ZSieOPQHltKb",
        "outputId": "56a1fce2-9564-4372-c5a7-0454e08302e2"
      },
      "source": [
        "# Creating array of pixels \n",
        "images= df.pixels.tolist()\n",
        "X=[]\n",
        "for img in images:\n",
        "  X.append(img.split(' '))\n",
        "X= np.array(X, dtype= np.float32)\n",
        "X.shape"
      ],
      "execution_count": 3,
      "outputs": [
        {
          "output_type": "execute_result",
          "data": {
            "text/plain": [
              "(35887, 2304)"
            ]
          },
          "metadata": {},
          "execution_count": 3
        }
      ]
    },
    {
      "cell_type": "code",
      "metadata": {
        "colab": {
          "base_uri": "https://localhost:8080/"
        },
        "id": "ueM-8ONotTW2",
        "outputId": "0d80675f-893f-4bdf-c47d-bc095e5033e1"
      },
      "source": [
        "# Splitting X into training and testinging dataset and reshaping\n",
        "training_idx= df[df.Usage== 'Training'].index\n",
        "testing_idx= df[df.Usage != 'Training'].index\n",
        "X_train= X[training_idx,:].reshape(-1,48,48)\n",
        "X_test= X[testing_idx,:].reshape(-1,48,48)\n",
        "X_train.shape, X_test.shape"
      ],
      "execution_count": 4,
      "outputs": [
        {
          "output_type": "execute_result",
          "data": {
            "text/plain": [
              "((28709, 48, 48), (7178, 48, 48))"
            ]
          },
          "metadata": {},
          "execution_count": 4
        }
      ]
    },
    {
      "cell_type": "code",
      "metadata": {
        "colab": {
          "base_uri": "https://localhost:8080/",
          "height": 284
        },
        "id": "i1Hrw9KZ13GV",
        "outputId": "af29e95d-2f36-4284-e677-00adc773131d"
      },
      "source": [
        "# Plotting sample image\n",
        "plt.imshow(X_train[1,:,:])"
      ],
      "execution_count": 5,
      "outputs": [
        {
          "output_type": "execute_result",
          "data": {
            "text/plain": [
              "<matplotlib.image.AxesImage at 0x7f1b1218fa50>"
            ]
          },
          "metadata": {},
          "execution_count": 5
        },
        {
          "output_type": "display_data",
          "data": {
            "image/png": "[encoded data removed]",
            "text/plain": [
              "<Figure size 432x288 with 1 Axes>"
            ]
          },
          "metadata": {
            "needs_background": "light"
          }
        }
      ]
    },
    {
      "cell_type": "code",
      "metadata": {
        "id": "-PPtpLNMy9z-"
      },
      "source": [
        "# Normalizing data\n",
        "X_train= X_train / 255\n",
        "X_test= X_test / 255"
      ],
      "execution_count": 6,
      "outputs": []
    },
    {
      "cell_type": "code",
      "metadata": {
        "colab": {
          "base_uri": "https://localhost:8080/"
        },
        "id": "uMSVlOKwu2cg",
        "outputId": "a8e632ac-affc-4147-8d4f-366818b4fa7e"
      },
      "source": [
        "# Preparing target for train and test\n",
        "y= df.emotion.values\n",
        "y_train= y[training_idx].reshape(-1,1)\n",
        "y_test= y[testing_idx].reshape(-1,1)\n",
        "y_train.shape, y_test.shape"
      ],
      "execution_count": 7,
      "outputs": [
        {
          "output_type": "execute_result",
          "data": {
            "text/plain": [
              "((28709, 1), (7178, 1))"
            ]
          },
          "metadata": {},
          "execution_count": 7
        }
      ]
    },
    {
      "cell_type": "code",
      "metadata": {
        "colab": {
          "base_uri": "https://localhost:8080/"
        },
        "id": "eT7CvvYVxML1",
        "outputId": "d189f82f-4db0-425b-9efe-72744d5a6cd1"
      },
      "source": [
        "# Checking unique categories in y_test and y_train\n",
        "np.unique(y_train), np.unique(y_test)"
      ],
      "execution_count": 8,
      "outputs": [
        {
          "output_type": "execute_result",
          "data": {
            "text/plain": [
              "(array([0, 1, 2, 3, 4, 5, 6]), array([0, 1, 2, 3, 4, 5, 6]))"
            ]
          },
          "metadata": {},
          "execution_count": 8
        }
      ]
    },
    {
      "cell_type": "code",
      "metadata": {
        "id": "q3nNKYi33AXU"
      },
      "source": [
        "# Performing One-hot encoding of 7 labels\n",
        "Y_train= tf.keras.utils.to_categorical(y_train, 7) \n",
        "Y_test= tf.keras.utils.to_categorical(y_test, 7)"
      ],
      "execution_count": 9,
      "outputs": []
    },
    {
      "cell_type": "code",
      "metadata": {
        "colab": {
          "base_uri": "https://localhost:8080/"
        },
        "id": "YFDnHzls3NU-",
        "outputId": "f0473610-ff61-4635-8e91-988059f27f56"
      },
      "source": [
        "# Checking final shape of target\n",
        "Y_train.shape, Y_test.shape"
      ],
      "execution_count": 10,
      "outputs": [
        {
          "output_type": "execute_result",
          "data": {
            "text/plain": [
              "((28709, 7), (7178, 7))"
            ]
          },
          "metadata": {},
          "execution_count": 10
        }
      ]
    },
    {
      "cell_type": "markdown",
      "metadata": {
        "id": "YTU8Lg_v3WLk"
      },
      "source": [
        "# Model Building"
      ]
    },
    {
      "cell_type": "markdown",
      "metadata": {
        "id": "6WjX4avB38_i"
      },
      "source": [
        "## Model 1"
      ]
    },
    {
      "cell_type": "code",
      "metadata": {
        "id": "cJbBpm6Y3VUM"
      },
      "source": [
        "# Creating model1\n",
        "model1= tf.keras.Sequential()\n",
        "model1.add(tf.keras.layers.Conv2D(filters= 64, kernel_size= (5,5), input_shape= (48,48,1), activation= 'relu'))\n",
        "model1.add(tf.keras.layers.Conv2D(filters= 64, kernel_size= (5,5), activation= 'relu'))\n",
        "model1.add(tf.keras.layers.BatchNormalization())\n",
        "model1.add(tf.keras.layers.MaxPooling2D((2, 2)))\n",
        "\n",
        "\n",
        "model1.add(tf.keras.layers.Conv2D(filters= 128, kernel_size= (5,5), activation= 'relu'))\n",
        "model1.add(tf.keras.layers.Conv2D(filters= 128, kernel_size= (5,5), activation= 'relu'))\n",
        "model1.add(tf.keras.layers.BatchNormalization())\n",
        "model1.add(tf.keras.layers.MaxPooling2D((2, 2)))\n",
        "\n",
        "\n",
        "model1.add(tf.keras.layers.Conv2D(filters= 256, kernel_size= (3,3), activation= 'relu'))\n",
        "model1.add(tf.keras.layers.Conv2D(filters= 256, kernel_size= (3,3), activation= 'relu'))\n",
        "model1.add(tf.keras.layers.BatchNormalization())\n",
        "model1.add(tf.keras.layers.MaxPooling2D((2, 2)))\n",
        "\n",
        "\n",
        "model1.add(tf.keras.layers.Flatten())\n",
        "model1.add(tf.keras.layers.Dense(128, activation='relu'))\n",
        "model1.add(tf.keras.layers.BatchNormalization())\n",
        "model1.add(tf.keras.layers.Dropout(.25))\n",
        "model1.add(tf.keras.layers.Dense(7, activation= 'softmax'))"
      ],
      "execution_count": 11,
      "outputs": []
    },
    {
      "cell_type": "code",
      "metadata": {
        "colab": {
          "base_uri": "https://localhost:8080/"
        },
        "id": "KRAOMvcJ3TJT",
        "outputId": "dc33bb8b-47e0-4688-cc5a-63ba9c120d9e"
      },
      "source": [
        "# Checking model summary\n",
        "model1.summary()"
      ],
      "execution_count": 12,
      "outputs": [
        {
          "output_type": "stream",
          "name": "stdout",
          "text": [
            "Model: \"sequential\"\n",
            "_________________________________________________________________\n",
            " Layer (type)                Output Shape              Param #   \n",
            "=================================================================\n",
            " conv2d (Conv2D)             (None, 44, 44, 64)        1664      \n",
            "                                                                 \n",
            " conv2d_1 (Conv2D)           (None, 40, 40, 64)        102464    \n",
            "                                                                 \n",
            " batch_normalization (BatchN  (None, 40, 40, 64)       256       \n",
            " ormalization)                                                   \n",
            "                                                                 \n",
            " max_pooling2d (MaxPooling2D  (None, 20, 20, 64)       0         \n",
            " )                                                               \n",
            "                                                                 \n",
            " conv2d_2 (Conv2D)           (None, 16, 16, 128)       204928    \n",
            "                                                                 \n",
            " conv2d_3 (Conv2D)           (None, 12, 12, 128)       409728    \n",
            "                                                                 \n",
            " batch_normalization_1 (Batc  (None, 12, 12, 128)      512       \n",
            " hNormalization)                                                 \n",
            "                                                                 \n",
            " max_pooling2d_1 (MaxPooling  (None, 6, 6, 128)        0         \n",
            " 2D)                                                             \n",
            "                                                                 \n",
            " conv2d_4 (Conv2D)           (None, 4, 4, 256)         295168    \n",
            "                                                                 \n",
            " conv2d_5 (Conv2D)           (None, 2, 2, 256)         590080    \n",
            "                                                                 \n",
            " batch_normalization_2 (Batc  (None, 2, 2, 256)        1024      \n",
            " hNormalization)                                                 \n",
            "                                                                 \n",
            " max_pooling2d_2 (MaxPooling  (None, 1, 1, 256)        0         \n",
            " 2D)                                                             \n",
            "                                                                 \n",
            " flatten (Flatten)           (None, 256)               0         \n",
            "                                                                 \n",
            " dense (Dense)               (None, 128)               32896     \n",
            "                                                                 \n",
            " batch_normalization_3 (Batc  (None, 128)              512       \n",
            " hNormalization)                                                 \n",
            "                                                                 \n",
            " dropout (Dropout)           (None, 128)               0         \n",
            "                                                                 \n",
            " dense_1 (Dense)             (None, 7)                 903       \n",
            "                                                                 \n",
            "=================================================================\n",
            "Total params: 1,640,135\n",
            "Trainable params: 1,638,983\n",
            "Non-trainable params: 1,152\n",
            "_________________________________________________________________\n"
          ]
        }
      ]
    },
    {
      "cell_type": "code",
      "metadata": {
        "id": "Eijhe6CIAOgx"
      },
      "source": [
        "# Compiling model\n",
        "model1.compile(loss= 'categorical_crossentropy', optimizer= 'adam', metrics= ['accuracy'])"
      ],
      "execution_count": 13,
      "outputs": []
    },
    {
      "cell_type": "code",
      "metadata": {
        "colab": {
          "base_uri": "https://localhost:8080/"
        },
        "id": "YA_krEytA34U",
        "outputId": "2704478c-d110-48d3-9703-fed6dbade5ba"
      },
      "source": [
        "# Fit the model\n",
        "history1= model1.fit(X_train, Y_train, epochs= 100,  batch_size= 64, validation_split= .2)"
      ],
      "execution_count": 14,
      "outputs": [
        {
          "output_type": "stream",
          "name": "stdout",
          "text": [
            "Epoch 1/100\n",
            "359/359 [==============================] - 8s 17ms/step - loss: 1.9429 - accuracy: 0.2692 - val_loss: 1.7935 - val_accuracy: 0.2524\n",
            "Epoch 2/100\n",
            "359/359 [==============================] - 6s 15ms/step - loss: 1.6039 - accuracy: 0.3856 - val_loss: 1.6760 - val_accuracy: 0.3760\n",
            "Epoch 3/100\n",
            "359/359 [==============================] - 6s 15ms/step - loss: 1.3873 - accuracy: 0.4664 - val_loss: 1.4188 - val_accuracy: 0.4601\n",
            "Epoch 4/100\n",
            "359/359 [==============================] - 6s 16ms/step - loss: 1.2348 - accuracy: 0.5301 - val_loss: 1.2126 - val_accuracy: 0.5362\n",
            "Epoch 5/100\n",
            "359/359 [==============================] - 6s 15ms/step - loss: 1.1313 - accuracy: 0.5705 - val_loss: 1.2561 - val_accuracy: 0.5225\n",
            "Epoch 6/100\n",
            "359/359 [==============================] - 6s 15ms/step - loss: 1.0461 - accuracy: 0.6040 - val_loss: 1.2853 - val_accuracy: 0.5096\n",
            "Epoch 7/100\n",
            "359/359 [==============================] - 6s 15ms/step - loss: 0.9581 - accuracy: 0.6404 - val_loss: 1.1946 - val_accuracy: 0.5582\n",
            "Epoch 8/100\n",
            "359/359 [==============================] - 6s 15ms/step - loss: 0.8440 - accuracy: 0.6881 - val_loss: 1.1774 - val_accuracy: 0.5738\n",
            "Epoch 9/100\n",
            "359/359 [==============================] - 6s 15ms/step - loss: 0.7140 - accuracy: 0.7353 - val_loss: 1.3033 - val_accuracy: 0.5585\n",
            "Epoch 10/100\n",
            "359/359 [==============================] - 6s 15ms/step - loss: 0.5807 - accuracy: 0.7906 - val_loss: 1.4444 - val_accuracy: 0.5740\n",
            "Epoch 11/100\n",
            "359/359 [==============================] - 6s 15ms/step - loss: 0.4452 - accuracy: 0.8401 - val_loss: 1.5638 - val_accuracy: 0.5449\n",
            "Epoch 12/100\n",
            "359/359 [==============================] - 6s 15ms/step - loss: 0.3298 - accuracy: 0.8858 - val_loss: 1.7225 - val_accuracy: 0.5489\n",
            "Epoch 13/100\n",
            "359/359 [==============================] - 6s 15ms/step - loss: 0.2510 - accuracy: 0.9110 - val_loss: 1.8847 - val_accuracy: 0.5603\n",
            "Epoch 14/100\n",
            "359/359 [==============================] - 6s 15ms/step - loss: 0.1863 - accuracy: 0.9381 - val_loss: 1.9682 - val_accuracy: 0.5658\n",
            "Epoch 15/100\n",
            "359/359 [==============================] - 6s 15ms/step - loss: 0.1666 - accuracy: 0.9441 - val_loss: 2.0013 - val_accuracy: 0.5571\n",
            "Epoch 16/100\n",
            "359/359 [==============================] - 6s 15ms/step - loss: 0.1503 - accuracy: 0.9505 - val_loss: 2.0458 - val_accuracy: 0.5676\n",
            "Epoch 17/100\n",
            "359/359 [==============================] - 6s 15ms/step - loss: 0.1318 - accuracy: 0.9566 - val_loss: 2.3920 - val_accuracy: 0.5509\n",
            "Epoch 18/100\n",
            "359/359 [==============================] - 6s 15ms/step - loss: 0.1084 - accuracy: 0.9643 - val_loss: 2.2827 - val_accuracy: 0.5646\n",
            "Epoch 19/100\n",
            "359/359 [==============================] - 6s 15ms/step - loss: 0.1125 - accuracy: 0.9640 - val_loss: 2.2142 - val_accuracy: 0.5738\n",
            "Epoch 20/100\n",
            "359/359 [==============================] - 6s 15ms/step - loss: 0.1008 - accuracy: 0.9647 - val_loss: 2.4673 - val_accuracy: 0.5670\n",
            "Epoch 21/100\n",
            "359/359 [==============================] - 6s 15ms/step - loss: 0.0990 - accuracy: 0.9688 - val_loss: 2.3122 - val_accuracy: 0.5662\n",
            "Epoch 22/100\n",
            "359/359 [==============================] - 6s 16ms/step - loss: 0.0874 - accuracy: 0.9714 - val_loss: 2.5503 - val_accuracy: 0.5625\n",
            "Epoch 23/100\n",
            "359/359 [==============================] - 6s 15ms/step - loss: 0.0796 - accuracy: 0.9746 - val_loss: 2.4198 - val_accuracy: 0.5704\n",
            "Epoch 24/100\n",
            "359/359 [==============================] - 6s 15ms/step - loss: 0.0884 - accuracy: 0.9702 - val_loss: 2.7480 - val_accuracy: 0.5291\n",
            "Epoch 25/100\n",
            "359/359 [==============================] - 6s 15ms/step - loss: 0.0773 - accuracy: 0.9738 - val_loss: 2.4718 - val_accuracy: 0.5740\n",
            "Epoch 26/100\n",
            "359/359 [==============================] - 6s 15ms/step - loss: 0.0845 - accuracy: 0.9707 - val_loss: 2.6210 - val_accuracy: 0.5660\n",
            "Epoch 27/100\n",
            "359/359 [==============================] - 6s 16ms/step - loss: 0.0701 - accuracy: 0.9764 - val_loss: 2.7306 - val_accuracy: 0.5610\n",
            "Epoch 28/100\n",
            "359/359 [==============================] - 6s 16ms/step - loss: 0.0725 - accuracy: 0.9765 - val_loss: 2.5781 - val_accuracy: 0.5749\n",
            "Epoch 29/100\n",
            "359/359 [==============================] - 6s 15ms/step - loss: 0.0682 - accuracy: 0.9774 - val_loss: 2.6338 - val_accuracy: 0.5683\n",
            "Epoch 30/100\n",
            "359/359 [==============================] - 6s 16ms/step - loss: 0.0631 - accuracy: 0.9782 - val_loss: 2.9121 - val_accuracy: 0.5543\n",
            "Epoch 31/100\n",
            "359/359 [==============================] - 6s 15ms/step - loss: 0.0642 - accuracy: 0.9781 - val_loss: 2.5970 - val_accuracy: 0.5747\n",
            "Epoch 32/100\n",
            "359/359 [==============================] - 6s 15ms/step - loss: 0.0688 - accuracy: 0.9764 - val_loss: 2.7202 - val_accuracy: 0.5590\n",
            "Epoch 33/100\n",
            "359/359 [==============================] - 6s 15ms/step - loss: 0.0674 - accuracy: 0.9775 - val_loss: 2.7230 - val_accuracy: 0.5578\n",
            "Epoch 34/100\n",
            "359/359 [==============================] - 6s 15ms/step - loss: 0.0616 - accuracy: 0.9788 - val_loss: 2.7655 - val_accuracy: 0.5641\n",
            "Epoch 35/100\n",
            "359/359 [==============================] - 6s 15ms/step - loss: 0.0586 - accuracy: 0.9805 - val_loss: 2.6257 - val_accuracy: 0.5723\n",
            "Epoch 36/100\n",
            "359/359 [==============================] - 6s 15ms/step - loss: 0.0495 - accuracy: 0.9832 - val_loss: 2.7783 - val_accuracy: 0.5836\n",
            "Epoch 37/100\n",
            "359/359 [==============================] - 6s 15ms/step - loss: 0.0459 - accuracy: 0.9851 - val_loss: 2.7892 - val_accuracy: 0.5756\n",
            "Epoch 38/100\n",
            "359/359 [==============================] - 6s 15ms/step - loss: 0.0556 - accuracy: 0.9811 - val_loss: 2.7153 - val_accuracy: 0.5772\n",
            "Epoch 39/100\n",
            "359/359 [==============================] - 6s 15ms/step - loss: 0.0559 - accuracy: 0.9810 - val_loss: 2.7622 - val_accuracy: 0.5738\n",
            "Epoch 40/100\n",
            "359/359 [==============================] - 6s 16ms/step - loss: 0.0506 - accuracy: 0.9818 - val_loss: 2.8426 - val_accuracy: 0.5761\n",
            "Epoch 41/100\n",
            "359/359 [==============================] - 6s 15ms/step - loss: 0.0490 - accuracy: 0.9841 - val_loss: 2.8008 - val_accuracy: 0.5778\n",
            "Epoch 42/100\n",
            "359/359 [==============================] - 6s 16ms/step - loss: 0.0520 - accuracy: 0.9828 - val_loss: 2.8852 - val_accuracy: 0.5731\n",
            "Epoch 43/100\n",
            "359/359 [==============================] - 6s 15ms/step - loss: 0.0482 - accuracy: 0.9824 - val_loss: 3.0430 - val_accuracy: 0.5670\n",
            "Epoch 44/100\n",
            "359/359 [==============================] - 6s 15ms/step - loss: 0.0430 - accuracy: 0.9862 - val_loss: 2.9511 - val_accuracy: 0.5815\n",
            "Epoch 45/100\n",
            "359/359 [==============================] - 6s 15ms/step - loss: 0.0480 - accuracy: 0.9838 - val_loss: 2.9074 - val_accuracy: 0.5691\n",
            "Epoch 46/100\n",
            "359/359 [==============================] - 6s 16ms/step - loss: 0.0479 - accuracy: 0.9832 - val_loss: 2.7625 - val_accuracy: 0.5834\n",
            "Epoch 47/100\n",
            "359/359 [==============================] - 6s 15ms/step - loss: 0.0354 - accuracy: 0.9883 - val_loss: 2.8644 - val_accuracy: 0.5677\n",
            "Epoch 48/100\n",
            "359/359 [==============================] - 6s 16ms/step - loss: 0.0298 - accuracy: 0.9896 - val_loss: 2.8558 - val_accuracy: 0.5756\n",
            "Epoch 49/100\n",
            "359/359 [==============================] - 6s 16ms/step - loss: 0.0325 - accuracy: 0.9883 - val_loss: 3.1570 - val_accuracy: 0.5636\n",
            "Epoch 50/100\n",
            "359/359 [==============================] - 6s 15ms/step - loss: 0.0730 - accuracy: 0.9744 - val_loss: 2.8727 - val_accuracy: 0.5780\n",
            "Epoch 51/100\n",
            "359/359 [==============================] - 6s 15ms/step - loss: 0.0455 - accuracy: 0.9843 - val_loss: 2.9419 - val_accuracy: 0.5618\n",
            "Epoch 52/100\n",
            "359/359 [==============================] - 6s 16ms/step - loss: 0.0290 - accuracy: 0.9901 - val_loss: 2.9427 - val_accuracy: 0.5787\n",
            "Epoch 53/100\n",
            "359/359 [==============================] - 6s 16ms/step - loss: 0.0244 - accuracy: 0.9910 - val_loss: 2.8718 - val_accuracy: 0.5888\n",
            "Epoch 54/100\n",
            "359/359 [==============================] - 6s 16ms/step - loss: 0.0264 - accuracy: 0.9904 - val_loss: 3.0460 - val_accuracy: 0.5850\n",
            "Epoch 55/100\n",
            "359/359 [==============================] - 6s 16ms/step - loss: 0.0468 - accuracy: 0.9847 - val_loss: 3.0602 - val_accuracy: 0.5765\n",
            "Epoch 56/100\n",
            "359/359 [==============================] - 6s 15ms/step - loss: 0.0429 - accuracy: 0.9857 - val_loss: 2.9471 - val_accuracy: 0.5831\n",
            "Epoch 57/100\n",
            "359/359 [==============================] - 6s 15ms/step - loss: 0.0419 - accuracy: 0.9858 - val_loss: 3.2095 - val_accuracy: 0.5629\n",
            "Epoch 58/100\n",
            "359/359 [==============================] - 6s 16ms/step - loss: 0.0362 - accuracy: 0.9870 - val_loss: 2.9234 - val_accuracy: 0.5777\n",
            "Epoch 59/100\n",
            "359/359 [==============================] - 6s 15ms/step - loss: 0.0332 - accuracy: 0.9879 - val_loss: 3.0803 - val_accuracy: 0.5822\n",
            "Epoch 60/100\n",
            "359/359 [==============================] - 6s 16ms/step - loss: 0.0346 - accuracy: 0.9883 - val_loss: 3.0424 - val_accuracy: 0.5716\n",
            "Epoch 61/100\n",
            "359/359 [==============================] - 6s 15ms/step - loss: 0.0341 - accuracy: 0.9875 - val_loss: 3.0353 - val_accuracy: 0.5738\n",
            "Epoch 62/100\n",
            "359/359 [==============================] - 6s 15ms/step - loss: 0.0282 - accuracy: 0.9897 - val_loss: 3.1408 - val_accuracy: 0.5808\n",
            "Epoch 63/100\n",
            "359/359 [==============================] - 6s 16ms/step - loss: 0.0355 - accuracy: 0.9875 - val_loss: 3.1230 - val_accuracy: 0.5697\n",
            "Epoch 64/100\n",
            "359/359 [==============================] - 6s 16ms/step - loss: 0.0425 - accuracy: 0.9847 - val_loss: 3.0018 - val_accuracy: 0.5817\n",
            "Epoch 65/100\n",
            "359/359 [==============================] - 6s 15ms/step - loss: 0.0273 - accuracy: 0.9902 - val_loss: 3.0977 - val_accuracy: 0.5759\n",
            "Epoch 66/100\n",
            "359/359 [==============================] - 6s 15ms/step - loss: 0.0290 - accuracy: 0.9903 - val_loss: 3.1099 - val_accuracy: 0.5758\n",
            "Epoch 67/100\n",
            "359/359 [==============================] - 6s 15ms/step - loss: 0.0309 - accuracy: 0.9892 - val_loss: 3.1561 - val_accuracy: 0.5756\n",
            "Epoch 68/100\n",
            "359/359 [==============================] - 6s 15ms/step - loss: 0.0267 - accuracy: 0.9901 - val_loss: 3.1848 - val_accuracy: 0.5705\n",
            "Epoch 69/100\n",
            "359/359 [==============================] - 6s 16ms/step - loss: 0.0375 - accuracy: 0.9870 - val_loss: 3.1604 - val_accuracy: 0.5688\n",
            "Epoch 70/100\n",
            "359/359 [==============================] - 6s 15ms/step - loss: 0.0266 - accuracy: 0.9900 - val_loss: 3.2553 - val_accuracy: 0.5664\n",
            "Epoch 71/100\n",
            "359/359 [==============================] - 6s 16ms/step - loss: 0.0292 - accuracy: 0.9890 - val_loss: 3.3399 - val_accuracy: 0.5735\n",
            "Epoch 72/100\n",
            "359/359 [==============================] - 6s 15ms/step - loss: 0.0334 - accuracy: 0.9888 - val_loss: 3.0865 - val_accuracy: 0.5718\n",
            "Epoch 73/100\n",
            "359/359 [==============================] - 6s 15ms/step - loss: 0.0251 - accuracy: 0.9909 - val_loss: 3.1638 - val_accuracy: 0.5712\n",
            "Epoch 74/100\n",
            "359/359 [==============================] - 6s 15ms/step - loss: 0.0238 - accuracy: 0.9921 - val_loss: 3.1817 - val_accuracy: 0.5777\n",
            "Epoch 75/100\n",
            "359/359 [==============================] - 6s 16ms/step - loss: 0.0304 - accuracy: 0.9889 - val_loss: 3.2000 - val_accuracy: 0.5658\n",
            "Epoch 76/100\n",
            "359/359 [==============================] - 6s 16ms/step - loss: 0.0361 - accuracy: 0.9877 - val_loss: 2.9278 - val_accuracy: 0.5822\n",
            "Epoch 77/100\n",
            "359/359 [==============================] - 6s 15ms/step - loss: 0.0218 - accuracy: 0.9923 - val_loss: 2.9604 - val_accuracy: 0.5836\n",
            "Epoch 78/100\n",
            "359/359 [==============================] - 6s 15ms/step - loss: 0.0226 - accuracy: 0.9921 - val_loss: 3.1412 - val_accuracy: 0.5606\n",
            "Epoch 79/100\n",
            "359/359 [==============================] - 6s 15ms/step - loss: 0.0264 - accuracy: 0.9906 - val_loss: 3.2405 - val_accuracy: 0.5772\n",
            "Epoch 80/100\n",
            "359/359 [==============================] - 6s 16ms/step - loss: 0.0270 - accuracy: 0.9899 - val_loss: 3.2415 - val_accuracy: 0.5622\n",
            "Epoch 81/100\n",
            "359/359 [==============================] - 6s 16ms/step - loss: 0.0339 - accuracy: 0.9884 - val_loss: 3.0827 - val_accuracy: 0.5683\n",
            "Epoch 82/100\n",
            "359/359 [==============================] - 6s 16ms/step - loss: 0.0270 - accuracy: 0.9904 - val_loss: 2.9971 - val_accuracy: 0.5754\n",
            "Epoch 83/100\n",
            "359/359 [==============================] - 6s 15ms/step - loss: 0.0239 - accuracy: 0.9916 - val_loss: 3.0704 - val_accuracy: 0.5730\n",
            "Epoch 84/100\n",
            "359/359 [==============================] - 6s 16ms/step - loss: 0.0148 - accuracy: 0.9949 - val_loss: 3.1906 - val_accuracy: 0.5737\n",
            "Epoch 85/100\n",
            "359/359 [==============================] - 6s 16ms/step - loss: 0.0233 - accuracy: 0.9918 - val_loss: 3.2088 - val_accuracy: 0.5630\n",
            "Epoch 86/100\n",
            "359/359 [==============================] - 6s 15ms/step - loss: 0.0343 - accuracy: 0.9879 - val_loss: 3.0802 - val_accuracy: 0.5815\n",
            "Epoch 87/100\n",
            "359/359 [==============================] - 6s 16ms/step - loss: 0.0223 - accuracy: 0.9922 - val_loss: 3.0365 - val_accuracy: 0.5766\n",
            "Epoch 88/100\n",
            "359/359 [==============================] - 6s 15ms/step - loss: 0.0224 - accuracy: 0.9925 - val_loss: 3.1899 - val_accuracy: 0.5711\n",
            "Epoch 89/100\n",
            "359/359 [==============================] - 6s 16ms/step - loss: 0.0188 - accuracy: 0.9931 - val_loss: 3.2239 - val_accuracy: 0.5780\n",
            "Epoch 90/100\n",
            "359/359 [==============================] - 6s 15ms/step - loss: 0.0259 - accuracy: 0.9910 - val_loss: 3.2210 - val_accuracy: 0.5759\n",
            "Epoch 91/100\n",
            "359/359 [==============================] - 6s 15ms/step - loss: 0.0315 - accuracy: 0.9891 - val_loss: 3.3469 - val_accuracy: 0.5744\n",
            "Epoch 92/100\n",
            "359/359 [==============================] - 6s 16ms/step - loss: 0.0243 - accuracy: 0.9914 - val_loss: 3.1429 - val_accuracy: 0.5773\n",
            "Epoch 93/100\n",
            "359/359 [==============================] - 6s 16ms/step - loss: 0.0220 - accuracy: 0.9925 - val_loss: 3.0540 - val_accuracy: 0.5691\n",
            "Epoch 94/100\n",
            "359/359 [==============================] - 6s 16ms/step - loss: 0.0176 - accuracy: 0.9934 - val_loss: 3.2341 - val_accuracy: 0.5698\n",
            "Epoch 95/100\n",
            "359/359 [==============================] - 6s 15ms/step - loss: 0.0226 - accuracy: 0.9925 - val_loss: 3.1889 - val_accuracy: 0.5751\n",
            "Epoch 96/100\n",
            "359/359 [==============================] - 6s 15ms/step - loss: 0.0246 - accuracy: 0.9906 - val_loss: 3.1595 - val_accuracy: 0.5700\n",
            "Epoch 97/100\n",
            "359/359 [==============================] - 6s 16ms/step - loss: 0.0255 - accuracy: 0.9917 - val_loss: 3.0202 - val_accuracy: 0.5857\n",
            "Epoch 98/100\n",
            "359/359 [==============================] - 6s 15ms/step - loss: 0.0171 - accuracy: 0.9939 - val_loss: 3.1905 - val_accuracy: 0.5770\n",
            "Epoch 99/100\n",
            "359/359 [==============================] - 6s 16ms/step - loss: 0.0200 - accuracy: 0.9924 - val_loss: 3.2916 - val_accuracy: 0.5702\n",
            "Epoch 100/100\n",
            "359/359 [==============================] - 6s 16ms/step - loss: 0.0279 - accuracy: 0.9896 - val_loss: 3.3799 - val_accuracy: 0.5620\n"
          ]
        }
      ]
    },
    {
      "cell_type": "markdown",
      "metadata": {
        "id": "iec978esHzfQ"
      },
      "source": [
        "Model is clearly overfitting. Creating next model with Dropout layers in convolution layers and adding padding= 'same' in MaxPooling."
      ]
    },
    {
      "cell_type": "markdown",
      "metadata": {
        "id": "xQa77RAPGrGj"
      },
      "source": [
        "## Model 2"
      ]
    },
    {
      "cell_type": "code",
      "metadata": {
        "colab": {
          "base_uri": "https://localhost:8080/"
        },
        "id": "Z0srU5F-GvBP",
        "outputId": "c14723bc-1614-4b6f-b9c8-6b92a8af36eb"
      },
      "source": [
        "# Creating model2 - Adding Dropout layers in convolution layers and adding padding= 'same' in MaxPooling\n",
        "\n",
        "model2= tf.keras.Sequential()\n",
        "model2.add(tf.keras.layers.Conv2D(filters= 64, kernel_size= (5,5), input_shape= (48,48,1), activation= 'relu'))\n",
        "model2.add(tf.keras.layers.Conv2D(filters= 64, kernel_size= (5,5), activation= 'relu'))\n",
        "model2.add(tf.keras.layers.BatchNormalization())\n",
        "model2.add(tf.keras.layers.MaxPooling2D((2, 2), padding= 'same'))\n",
        "model2.add(tf.keras.layers.Dropout(.5))\n",
        "\n",
        "model2.add(tf.keras.layers.Conv2D(filters= 128, kernel_size= (5,5), activation= 'relu'))\n",
        "model2.add(tf.keras.layers.Conv2D(filters= 128, kernel_size= (5,5), activation= 'relu'))\n",
        "model2.add(tf.keras.layers.BatchNormalization())\n",
        "model2.add(tf.keras.layers.MaxPooling2D((2, 2), padding= 'same'))\n",
        "model2.add(tf.keras.layers.Dropout(.5))\n",
        "\n",
        "model2.add(tf.keras.layers.Conv2D(filters= 256, kernel_size= (3,3), activation= 'relu'))\n",
        "model2.add(tf.keras.layers.Conv2D(filters= 256, kernel_size= (3,3), activation= 'relu'))\n",
        "model2.add(tf.keras.layers.BatchNormalization())\n",
        "model2.add(tf.keras.layers.MaxPooling2D((2, 2), padding= 'same'))\n",
        "model2.add(tf.keras.layers.Dropout(.5))\n",
        "\n",
        "model2.add(tf.keras.layers.Flatten())\n",
        "model2.add(tf.keras.layers.Dense(128, activation='relu'))\n",
        "model2.add(tf.keras.layers.BatchNormalization())\n",
        "model2.add(tf.keras.layers.Dropout(.3))\n",
        "model2.add(tf.keras.layers.Dense(7, activation= 'softmax'))\n",
        "\n",
        "# Checking model summary\n",
        "model2.summary()"
      ],
      "execution_count": 15,
      "outputs": [
        {
          "output_type": "stream",
          "name": "stdout",
          "text": [
            "Model: \"sequential_1\"\n",
            "_________________________________________________________________\n",
            " Layer (type)                Output Shape              Param #   \n",
            "=================================================================\n",
            " conv2d_6 (Conv2D)           (None, 44, 44, 64)        1664      \n",
            "                                                                 \n",
            " conv2d_7 (Conv2D)           (None, 40, 40, 64)        102464    \n",
            "                                                                 \n",
            " batch_normalization_4 (Batc  (None, 40, 40, 64)       256       \n",
            " hNormalization)                                                 \n",
            "                                                                 \n",
            " max_pooling2d_3 (MaxPooling  (None, 20, 20, 64)       0         \n",
            " 2D)                                                             \n",
            "                                                                 \n",
            " dropout_1 (Dropout)         (None, 20, 20, 64)        0         \n",
            "                                                                 \n",
            " conv2d_8 (Conv2D)           (None, 16, 16, 128)       204928    \n",
            "                                                                 \n",
            " conv2d_9 (Conv2D)           (None, 12, 12, 128)       409728    \n",
            "                                                                 \n",
            " batch_normalization_5 (Batc  (None, 12, 12, 128)      512       \n",
            " hNormalization)                                                 \n",
            "                                                                 \n",
            " max_pooling2d_4 (MaxPooling  (None, 6, 6, 128)        0         \n",
            " 2D)                                                             \n",
            "                                                                 \n",
            " dropout_2 (Dropout)         (None, 6, 6, 128)         0         \n",
            "                                                                 \n",
            " conv2d_10 (Conv2D)          (None, 4, 4, 256)         295168    \n",
            "                                                                 \n",
            " conv2d_11 (Conv2D)          (None, 2, 2, 256)         590080    \n",
            "                                                                 \n",
            " batch_normalization_6 (Batc  (None, 2, 2, 256)        1024      \n",
            " hNormalization)                                                 \n",
            "                                                                 \n",
            " max_pooling2d_5 (MaxPooling  (None, 1, 1, 256)        0         \n",
            " 2D)                                                             \n",
            "                                                                 \n",
            " dropout_3 (Dropout)         (None, 1, 1, 256)         0         \n",
            "                                                                 \n",
            " flatten_1 (Flatten)         (None, 256)               0         \n",
            "                                                                 \n",
            " dense_2 (Dense)             (None, 128)               32896     \n",
            "                                                                 \n",
            " batch_normalization_7 (Batc  (None, 128)              512       \n",
            " hNormalization)                                                 \n",
            "                                                                 \n",
            " dropout_4 (Dropout)         (None, 128)               0         \n",
            "                                                                 \n",
            " dense_3 (Dense)             (None, 7)                 903       \n",
            "                                                                 \n",
            "=================================================================\n",
            "Total params: 1,640,135\n",
            "Trainable params: 1,638,983\n",
            "Non-trainable params: 1,152\n",
            "_________________________________________________________________\n"
          ]
        }
      ]
    },
    {
      "cell_type": "code",
      "metadata": {
        "colab": {
          "base_uri": "https://localhost:8080/"
        },
        "id": "31VeT49AHoK3",
        "outputId": "3066efb1-2106-4423-c8d2-4fd53e2ce6b6"
      },
      "source": [
        "# Compiling model\n",
        "# To prevent over fitting we will stop the learning after 10 epochs and val_loss value not decreased\n",
        "model2.compile(loss= 'categorical_crossentropy', optimizer= 'adam', metrics= ['accuracy'])\n",
        "\n",
        "# Fit the model: 200 epochs with early stopping\n",
        "early_stopping= tf.keras.callbacks.EarlyStopping(monitor= 'val_loss', min_delta= .001, mode= 'min', patience= 10)\n",
        "callbacks= [early_stopping]\n",
        "history2= model2.fit(X_train, Y_train, epochs= 200,  batch_size= 64, validation_split= .2, callbacks= callbacks)"
      ],
      "execution_count": 16,
      "outputs": [
        {
          "output_type": "stream",
          "name": "stdout",
          "text": [
            "Epoch 1/200\n",
            "359/359 [==============================] - 7s 17ms/step - loss: 2.1055 - accuracy: 0.2085 - val_loss: 1.8069 - val_accuracy: 0.2546\n",
            "Epoch 2/200\n",
            "359/359 [==============================] - 6s 16ms/step - loss: 1.7912 - accuracy: 0.2878 - val_loss: 1.9510 - val_accuracy: 0.2724\n",
            "Epoch 3/200\n",
            "359/359 [==============================] - 6s 16ms/step - loss: 1.6336 - accuracy: 0.3523 - val_loss: 2.1944 - val_accuracy: 0.2638\n",
            "Epoch 4/200\n",
            "359/359 [==============================] - 6s 16ms/step - loss: 1.5274 - accuracy: 0.4051 - val_loss: 1.6014 - val_accuracy: 0.3755\n",
            "Epoch 5/200\n",
            "359/359 [==============================] - 6s 16ms/step - loss: 1.4396 - accuracy: 0.4431 - val_loss: 1.4095 - val_accuracy: 0.4582\n",
            "Epoch 6/200\n",
            "359/359 [==============================] - 6s 16ms/step - loss: 1.3753 - accuracy: 0.4688 - val_loss: 1.3156 - val_accuracy: 0.4915\n",
            "Epoch 7/200\n",
            "359/359 [==============================] - 6s 16ms/step - loss: 1.3179 - accuracy: 0.4936 - val_loss: 1.2472 - val_accuracy: 0.5282\n",
            "Epoch 8/200\n",
            "359/359 [==============================] - 6s 16ms/step - loss: 1.2729 - accuracy: 0.5126 - val_loss: 1.3486 - val_accuracy: 0.4970\n",
            "Epoch 9/200\n",
            "359/359 [==============================] - 6s 16ms/step - loss: 1.2379 - accuracy: 0.5293 - val_loss: 1.1875 - val_accuracy: 0.5500\n",
            "Epoch 10/200\n",
            "359/359 [==============================] - 6s 16ms/step - loss: 1.2045 - accuracy: 0.5416 - val_loss: 1.1976 - val_accuracy: 0.5357\n",
            "Epoch 11/200\n",
            "359/359 [==============================] - 6s 16ms/step - loss: 1.1790 - accuracy: 0.5570 - val_loss: 1.1475 - val_accuracy: 0.5636\n",
            "Epoch 12/200\n",
            "359/359 [==============================] - 6s 16ms/step - loss: 1.1424 - accuracy: 0.5699 - val_loss: 1.1223 - val_accuracy: 0.5761\n",
            "Epoch 13/200\n",
            "359/359 [==============================] - 6s 16ms/step - loss: 1.1154 - accuracy: 0.5796 - val_loss: 1.1071 - val_accuracy: 0.5845\n",
            "Epoch 14/200\n",
            "359/359 [==============================] - 6s 16ms/step - loss: 1.0912 - accuracy: 0.5875 - val_loss: 1.1634 - val_accuracy: 0.5693\n",
            "Epoch 15/200\n",
            "359/359 [==============================] - 6s 16ms/step - loss: 1.0719 - accuracy: 0.5976 - val_loss: 1.0785 - val_accuracy: 0.5972\n",
            "Epoch 16/200\n",
            "359/359 [==============================] - 6s 16ms/step - loss: 1.0396 - accuracy: 0.6121 - val_loss: 1.0914 - val_accuracy: 0.5918\n",
            "Epoch 17/200\n",
            "359/359 [==============================] - 6s 16ms/step - loss: 1.0248 - accuracy: 0.6147 - val_loss: 1.0952 - val_accuracy: 0.5801\n",
            "Epoch 18/200\n",
            "359/359 [==============================] - 6s 16ms/step - loss: 0.9980 - accuracy: 0.6249 - val_loss: 1.0685 - val_accuracy: 0.6040\n",
            "Epoch 19/200\n",
            "359/359 [==============================] - 6s 16ms/step - loss: 0.9791 - accuracy: 0.6332 - val_loss: 1.0681 - val_accuracy: 0.6007\n",
            "Epoch 20/200\n",
            "359/359 [==============================] - 6s 16ms/step - loss: 0.9530 - accuracy: 0.6477 - val_loss: 1.0464 - val_accuracy: 0.6149\n",
            "Epoch 21/200\n",
            "359/359 [==============================] - 6s 16ms/step - loss: 0.9374 - accuracy: 0.6484 - val_loss: 1.0496 - val_accuracy: 0.6087\n",
            "Epoch 22/200\n",
            "359/359 [==============================] - 6s 16ms/step - loss: 0.9042 - accuracy: 0.6631 - val_loss: 1.0615 - val_accuracy: 0.6069\n",
            "Epoch 23/200\n",
            "359/359 [==============================] - 6s 16ms/step - loss: 0.8903 - accuracy: 0.6717 - val_loss: 1.0454 - val_accuracy: 0.6153\n",
            "Epoch 24/200\n",
            "359/359 [==============================] - 6s 16ms/step - loss: 0.8746 - accuracy: 0.6745 - val_loss: 1.1021 - val_accuracy: 0.5979\n",
            "Epoch 25/200\n",
            "359/359 [==============================] - 6s 16ms/step - loss: 0.8572 - accuracy: 0.6835 - val_loss: 1.0298 - val_accuracy: 0.6183\n",
            "Epoch 26/200\n",
            "359/359 [==============================] - 6s 16ms/step - loss: 0.8337 - accuracy: 0.6912 - val_loss: 1.0477 - val_accuracy: 0.6228\n",
            "Epoch 27/200\n",
            "359/359 [==============================] - 6s 16ms/step - loss: 0.8134 - accuracy: 0.6989 - val_loss: 1.0457 - val_accuracy: 0.6233\n",
            "Epoch 28/200\n",
            "359/359 [==============================] - 6s 16ms/step - loss: 0.7999 - accuracy: 0.7042 - val_loss: 1.1078 - val_accuracy: 0.6085\n",
            "Epoch 29/200\n",
            "359/359 [==============================] - 6s 16ms/step - loss: 0.7824 - accuracy: 0.7116 - val_loss: 1.0990 - val_accuracy: 0.6167\n",
            "Epoch 30/200\n",
            "359/359 [==============================] - 6s 16ms/step - loss: 0.7668 - accuracy: 0.7143 - val_loss: 1.0699 - val_accuracy: 0.6106\n",
            "Epoch 31/200\n",
            "359/359 [==============================] - 6s 16ms/step - loss: 0.7467 - accuracy: 0.7230 - val_loss: 1.0891 - val_accuracy: 0.6196\n",
            "Epoch 32/200\n",
            "359/359 [==============================] - 6s 16ms/step - loss: 0.7304 - accuracy: 0.7292 - val_loss: 1.0484 - val_accuracy: 0.6247\n",
            "Epoch 33/200\n",
            "359/359 [==============================] - 6s 16ms/step - loss: 0.7081 - accuracy: 0.7407 - val_loss: 1.0756 - val_accuracy: 0.6238\n",
            "Epoch 34/200\n",
            "359/359 [==============================] - 6s 16ms/step - loss: 0.6944 - accuracy: 0.7417 - val_loss: 1.0803 - val_accuracy: 0.6263\n",
            "Epoch 35/200\n",
            "359/359 [==============================] - 6s 16ms/step - loss: 0.6925 - accuracy: 0.7450 - val_loss: 1.1359 - val_accuracy: 0.5923\n"
          ]
        }
      ]
    },
    {
      "cell_type": "code",
      "metadata": {
        "colab": {
          "base_uri": "https://localhost:8080/"
        },
        "id": "IgIgDcNc0MCo",
        "outputId": "272c122b-ed62-46af-ea8a-e29b6986b8e7"
      },
      "source": [
        "# Evaluating the model on test dataset\n",
        "model2.evaluate(X_test, Y_test)"
      ],
      "execution_count": 17,
      "outputs": [
        {
          "output_type": "stream",
          "name": "stdout",
          "text": [
            "225/225 [==============================] - 1s 5ms/step - loss: 1.1525 - accuracy: 0.5942\n"
          ]
        },
        {
          "output_type": "execute_result",
          "data": {
            "text/plain": [
              "[1.1524676084518433, 0.5941766500473022]"
            ]
          },
          "metadata": {},
          "execution_count": 17
        }
      ]
    },
    {
      "cell_type": "code",
      "metadata": {
        "colab": {
          "base_uri": "https://localhost:8080/",
          "height": 608
        },
        "id": "YR-V25Qg0NCJ",
        "outputId": "9c406d60-25e6-4aa7-e54e-15e7c702af82"
      },
      "source": [
        "# list all data in training\n",
        "print(history2.history.keys())\n",
        "# summarize training for accuracy\n",
        "plt.plot(history2.history['accuracy'])\n",
        "plt.plot(history2.history['val_accuracy'])\n",
        "plt.title('model accuracy')\n",
        "plt.ylabel('accuracy')\n",
        "plt.xlabel('epoch')\n",
        "plt.legend(['train', 'validation'], loc='upper left')\n",
        "plt.show()\n",
        "# summarize traning for loss\n",
        "plt.plot(history2.history['loss'])\n",
        "plt.plot(history2.history['val_loss'])\n",
        "plt.title('model loss')\n",
        "plt.ylabel('loss')\n",
        "plt.xlabel('epoch')\n",
        "plt.legend(['train', 'validation'], loc='upper left')"
      ],
      "execution_count": 19,
      "outputs": [
        {
          "output_type": "stream",
          "name": "stdout",
          "text": [
            "dict_keys(['loss', 'accuracy', 'val_loss', 'val_accuracy'])\n"
          ]
        },
        {
          "output_type": "display_data",
          "data": {
            "image/png": "[encoded data removed]",
            "text/plain": [
              "<Figure size 432x288 with 1 Axes>"
            ]
          },
          "metadata": {
            "needs_background": "light"
          }
        },
        {
          "output_type": "execute_result",
          "data": {
            "text/plain": [
              "<matplotlib.legend.Legend at 0x7f1ae8733050>"
            ]
          },
          "metadata": {},
          "execution_count": 19
        },
        {
          "output_type": "display_data",
          "data": {
            "image/png": "[encoded data removed]",
            "text/plain": [
              "<Figure size 432x288 with 1 Axes>"
            ]
          },
          "metadata": {
            "needs_background": "light"
          }
        }
      ]
    },
    {
      "cell_type": "markdown",
      "metadata": {
        "id": "bn8OHrtV4Wbw"
      },
      "source": [
        "Our custom CNN model is showing only 60% accuracy on testing dataset."
      ]
    },
    {
      "cell_type": "code",
      "metadata": {
        "id": "6DS_fQnZ4cjk"
      },
      "source": [
        ""
      ],
      "execution_count": null,
      "outputs": []
    }
  ]
}